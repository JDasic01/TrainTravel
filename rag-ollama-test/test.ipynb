{
 "cells": [
  {
   "cell_type": "code",
   "execution_count": 1,
   "metadata": {},
   "outputs": [],
   "source": [
    "import os\n",
    "import time\n",
    "from fastapi import FastAPI, HTTPException\n",
    "from langchain_core.runnables import RunnablePassthrough\n",
    "from langchain_core.prompts import ChatPromptTemplate\n",
    "from pydantic import BaseModel, Field\n",
    "from langchain_core.output_parsers import StrOutputParser\n",
    "from langchain_community.graphs import Neo4jGraph\n",
    "from langchain_community.chat_models import ChatOllama\n",
    "from langchain_experimental.graph_transformers import LLMGraphTransformer\n",
    "from langchain_community.vectorstores import Neo4jVector\n",
    "from langchain_core.documents import Document\n",
    "from langchain_ollama import OllamaEmbeddings\n",
    "from langchain_experimental.llms.ollama_functions import OllamaFunctions"
   ]
  },
  {
   "cell_type": "code",
   "execution_count": 2,
   "metadata": {},
   "outputs": [
    {
     "name": "stderr",
     "output_type": "stream",
     "text": [
      "C:\\Users\\vujic\\AppData\\Local\\Temp\\ipykernel_5480\\3334129755.py:2: LangChainDeprecationWarning: The class `Neo4jGraph` was deprecated in LangChain 0.3.8 and will be removed in 1.0. An updated version of the class exists in the :class:`~langchain-neo4j package and should be used instead. To use it run `pip install -U :class:`~langchain-neo4j` and import as `from :class:`~langchain_neo4j import Neo4jGraph``.\n",
      "  graph = Neo4jGraph(\n"
     ]
    }
   ],
   "source": [
    "# 1️⃣ CONNECT TO NEO4J DATABASE\n",
    "graph = Neo4jGraph(\n",
    "    url= \"bolt://localhost:7689\" ,\n",
    "    username=\"neo4j\",\n",
    "    password=\"password\",\n",
    "    refresh_schema=False\n",
    ")"
   ]
  },
  {
   "cell_type": "code",
   "execution_count": 5,
   "metadata": {},
   "outputs": [],
   "source": [
    "# 2️⃣ FUNCTION TO INGEST TEXT INTO THE GRAPH\n",
    "def ingest_text(text):\n",
    "    \"\"\"Converts text into a graph and stores it in Neo4j.\"\"\"\n",
    "    \n",
    "    # Convert text into a document format\n",
    "    documents = [Document(page_content=text)]\n",
    "\n",
    "    # Use a language model (LLM) to extract relationships\n",
    "    llm = ChatOllama(model=\"llama3\", temperature=0)\n",
    "    graph_transformer = LLMGraphTransformer(llm=llm)\n",
    "\n",
    "    # Convert text to graph format\n",
    "    graph_documents = graph_transformer.convert_to_graph_documents(documents)\n",
    "\n",
    "    # Store the extracted graph data in Neo4j\n",
    "    graph.add_graph_documents(graph_documents, baseEntityLabel=True, include_source=True)\n",
    "\n",
    "    # Create vector embeddings for advanced search\n",
    "    embed = OllamaEmbeddings(model=\"mxbai-embed-large\")\n",
    "    vector_index = Neo4jVector.from_existing_graph(\n",
    "        embedding=embed,\n",
    "        url= \"bolt://localhost:7689\",\n",
    "        username=\"neo4j\",\n",
    "        password=\"password\",\n",
    "        search_type=\"hybrid\",\n",
    "        node_label=\"Document\",\n",
    "        text_node_properties=[\"text\"],\n",
    "        embedding_node_property=\"embedding\"\n",
    "    )\n",
    "    \n",
    "    global vector_retriever\n",
    "    vector_retriever = vector_index.as_retriever()\n",
    "\n",
    "# 3️⃣ FUNCTION TO QUERY NEO4J FOR ENTITY RELATIONSHIPS\n",
    "def query_neo4j(question):\n",
    "    \"\"\"Extracts entities from a question and retrieves their relationships from Neo4j.\"\"\"\n",
    "\n",
    "    # Define expected output format\n",
    "    class Entities(BaseModel):\n",
    "        names: list[str] = Field(..., description=\"Extracted entities from text\")\n",
    "\n",
    "    # Define a prompt for entity extraction\n",
    "    prompt = ChatPromptTemplate.from_messages([\n",
    "        (\"system\", \"Extract organization and person entities from the text.\"),\n",
    "        (\"human\", \"Extract entities from: {question}\")\n",
    "    ])\n",
    "    \n",
    "    # Use Ollama to extract entities\n",
    "    llm = OllamaFunctions(model=\"llama3\", format=\"json\", temperature=0)\n",
    "    entity_chain = prompt | llm.with_structured_output(Entities, include_raw=True)\n",
    "\n",
    "    # Extract entities from question\n",
    "    response = entity_chain.invoke({\"question\": question})\n",
    "    entities = response['raw'].tool_calls[0]['args']['properties']['names']\n",
    "    \n",
    "    print(\"Retrieved Entities:\", entities)\n",
    "    result = \"\"\n",
    "\n",
    "    # Query Neo4j for relationships of extracted entities\n",
    "    for entity in entities:\n",
    "        query_response = graph.query(\n",
    "            \"\"\"MATCH (p:Person {id: $entity})-[r]->(e)\n",
    "               RETURN p.id AS source_id, type(r) AS relationship, e.id AS target_id\n",
    "               LIMIT 50\"\"\",\n",
    "            {\"entity\": entity}\n",
    "        )\n",
    "        result += \"\\n\".join([f\"{el['source_id']} - {el['relationship']} -> {el['target_id']}\" for el in query_response])\n",
    "\n",
    "    return result"
   ]
  },
  {
   "cell_type": "code",
   "execution_count": 11,
   "metadata": {},
   "outputs": [],
   "source": [
    "# 4️⃣ FUNCTION TO PERFORM HYBRID SEARCH\n",
    "def query_ollama(question):\n",
    "    \"\"\"Performs hybrid search using Neo4j graph data and vector embeddings.\"\"\"\n",
    "\n",
    "    # Retrieve both graph data and vector search data\n",
    "    def full_retriever(question: str):\n",
    "        graph_data = query_neo4j(question)\n",
    "        vector_data = [el.page_content for el in vector_retriever.invoke(question)]\n",
    "        \n",
    "        return f\"Graph data: {graph_data}\\nVector data: {'#Document '.join(vector_data)}\"\n",
    "\n",
    "    # Define the prompt template\n",
    "    template = \"\"\"Answer the question based only on the following context:\n",
    "    {context}\n",
    "    Question: {question}\n",
    "    Answer:\"\"\"\n",
    "    \n",
    "    # Create a language model pipeline\n",
    "    prompt = ChatPromptTemplate.from_template(template)\n",
    "    llm = ChatOllama(model=\"llama3\", temperature=0)\n",
    "    \n",
    "    chain = prompt | llm | StrOutputParser()\n",
    "\n",
    "    # Fix: Pass dictionary instead of string\n",
    "    return chain.invoke({\"context\": full_retriever(question), \"question\": question})"
   ]
  },
  {
   "cell_type": "markdown",
   "metadata": {},
   "source": [
    "# APOC plugin nedeed!"
   ]
  },
  {
   "cell_type": "code",
   "execution_count": 7,
   "metadata": {},
   "outputs": [
    {
     "name": "stdout",
     "output_type": "stream",
     "text": [
      "Ingesting text into Neo4j...\n"
     ]
    }
   ],
   "source": [
    "text = \"\"\"\n",
    "Marie Curie, born in 1867, was a Polish and naturalised-French physicist and chemist who conducted pioneering research on radioactivity.\n",
    "She was the first woman to win a Nobel Prize, the first person to win a Nobel Prize twice, and the only person to win a Nobel Prize in two scientific fields.\n",
    "Her husband, Pierre Curie, was a co-winner of her first Nobel Prize, making them the first-ever married couple to win the Nobel Prize.\n",
    "She was, in 1906, the first woman to become a professor at the University of Paris.\n",
    "\"\"\"\n",
    "\n",
    "# Ingest text into the graph\n",
    "print(\"Ingesting text into Neo4j...\")\n",
    "ingest_text(text)"
   ]
  },
  {
   "cell_type": "code",
   "execution_count": 12,
   "metadata": {},
   "outputs": [
    {
     "name": "stdout",
     "output_type": "stream",
     "text": [
      "\n",
      "Querying the system...\n",
      "\n",
      "Retrieved Entities: ['Marie Curie', 'Pierre Curie']\n"
     ]
    },
    {
     "name": "stderr",
     "output_type": "stream",
     "text": [
      "Received notification from DBMS server: {severity: WARNING} {code: Neo.ClientNotification.Statement.FeatureDeprecationWarning} {category: DEPRECATION} {title: This feature is deprecated and will be removed in future versions.} {description: CALL subquery without a variable scope clause is now deprecated. Use CALL () { ... }} {position: line: 1, column: 1, offset: 0} for query: \"CALL { CALL db.index.vector.queryNodes($index, $k, $embedding) YIELD node, score WITH collect({node:node, score:score}) AS nodes, max(score) AS max UNWIND nodes AS n RETURN n.node AS node, (n.score / max) AS score UNION CALL db.index.fulltext.queryNodes($keyword_index, $query, {limit: $k}) YIELD node, score WITH collect({node:node, score:score}) AS nodes, max(score) AS max UNWIND nodes AS n RETURN n.node AS node, (n.score / max) AS score } WITH node, max(score) AS score ORDER BY score DESC LIMIT $k RETURN reduce(str='', k IN ['text'] | str + '\\\\n' + k + ': ' + coalesce(node[k], '')) AS text, node {.*, `embedding`: Null, id: Null, `text`: Null} AS metadata, score\"\n"
     ]
    },
    {
     "name": "stdout",
     "output_type": "stream",
     "text": [
      "Final Answer:\n",
      " Marie Curie is a Polish and naturalised-French physicist and chemist. Pierre Curie is her husband.\n"
     ]
    }
   ],
   "source": [
    "# Ask a question\n",
    "print(\"\\nQuerying the system...\\n\")\n",
    "response = query_ollama(\"Who are Marie Curie and Pierre Curie?\")\n",
    "\n",
    "print(\"Final Answer:\\n\", response)"
   ]
  },
  {
   "cell_type": "code",
   "execution_count": null,
   "metadata": {},
   "outputs": [],
   "source": []
  }
 ],
 "metadata": {
  "kernelspec": {
   "display_name": "Python 3",
   "language": "python",
   "name": "python3"
  },
  "language_info": {
   "codemirror_mode": {
    "name": "ipython",
    "version": 3
   },
   "file_extension": ".py",
   "mimetype": "text/x-python",
   "name": "python",
   "nbconvert_exporter": "python",
   "pygments_lexer": "ipython3",
   "version": "3.12.7"
  }
 },
 "nbformat": 4,
 "nbformat_minor": 2
}
